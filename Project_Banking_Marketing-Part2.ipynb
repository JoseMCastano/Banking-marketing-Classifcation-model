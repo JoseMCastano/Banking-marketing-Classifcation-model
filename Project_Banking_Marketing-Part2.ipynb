{
 "cells": [
  {
   "cell_type": "markdown",
   "id": "6d10f0e9",
   "metadata": {},
   "source": [
    "# Project: Banking \n",
    "## Part 2: Building a prediction model"
   ]
  },
  {
   "cell_type": "markdown",
   "id": "0a2cf600",
   "metadata": {},
   "source": [
    "### In Part 1 we have seen:\n",
    "- Dataset overview\n",
    "- Exploratory Data Analysis\n",
    "- Statistical description of data\n",
    "- Features distributions\n",
    "- Features target percentage\n",
    "- Trends and patterns\n"
   ]
  },
  {
   "cell_type": "markdown",
   "id": "d8ab48ea",
   "metadata": {},
   "source": [
    "### Index Part 2:\n",
    "## Correlation analysis\n",
    "## Features engineering\n",
    "- Transform\n",
    "- Scaling\n",
    "- Selection\n",
    "\n",
    "## Splitting the dataset\n",
    "## Testing classification models\n",
    "- Imbalanced dataset\n",
    "- balanced dataset\n",
    "- Cross Validation\n",
    "- Hyperparameters tunning\n",
    "\n",
    "## Choosing final model"
   ]
  },
  {
   "cell_type": "markdown",
   "id": "ef8d57c0",
   "metadata": {},
   "source": [
    "## Libraries"
   ]
  },
  {
   "cell_type": "code",
   "execution_count": 1,
   "id": "7a3b87fc",
   "metadata": {},
   "outputs": [],
   "source": [
    "import numpy as np\n",
    "import pandas as pd\n",
    "import matplotlib.pyplot as plt\n",
    "import seaborn as sns\n",
    "from scipy import stats\n",
    "from sklearn.preprocessing import MinMaxScaler, StandardScaler, RobustScaler\n",
    "from sklearn.model_selection import train_test_split, GridSearchCV, RandomizedSearchCV, cross_val_score, RepeatedKFold\n",
    "from sklearn.linear_model import LogisticRegression\n",
    "from sklearn.tree import DecisionTreeClassifier\n",
    "from sklearn.ensemble import AdaBoostClassifier, RandomForestClassifier, GradientBoostingClassifier, HistGradientBoostingClassifier\n",
    "from imblearn.ensemble import BalancedBaggingClassifier\n",
    "from sklearn.neighbors import KNeighborsClassifier\n",
    "from sklearn.metrics import accuracy_score, precision_score, f1_score, confusion_matrix, recall_score, roc_auc_score\n",
    "from imblearn.under_sampling import RandomUnderSampler\n",
    "\n",
    "pd.set_option('display.max_rows', 100)\n",
    "pd.set_option('display.max_columns', 100)"
   ]
  },
  {
   "cell_type": "code",
   "execution_count": 2,
   "id": "c492b12a",
   "metadata": {},
   "outputs": [],
   "source": [
    "clients= pd.read_csv('bank-full.csv', engine='python')"
   ]
  },
  {
   "cell_type": "code",
   "execution_count": 3,
   "id": "03de9086",
   "metadata": {
    "scrolled": false
   },
   "outputs": [
    {
     "data": {
      "text/html": [
       "<div>\n",
       "<style scoped>\n",
       "    .dataframe tbody tr th:only-of-type {\n",
       "        vertical-align: middle;\n",
       "    }\n",
       "\n",
       "    .dataframe tbody tr th {\n",
       "        vertical-align: top;\n",
       "    }\n",
       "\n",
       "    .dataframe thead th {\n",
       "        text-align: right;\n",
       "    }\n",
       "</style>\n",
       "<table border=\"1\" class=\"dataframe\">\n",
       "  <thead>\n",
       "    <tr style=\"text-align: right;\">\n",
       "      <th></th>\n",
       "      <th>age</th>\n",
       "      <th>job</th>\n",
       "      <th>marital</th>\n",
       "      <th>education</th>\n",
       "      <th>default</th>\n",
       "      <th>balance</th>\n",
       "      <th>housing</th>\n",
       "      <th>loan</th>\n",
       "      <th>contact</th>\n",
       "      <th>day</th>\n",
       "      <th>month</th>\n",
       "      <th>duration</th>\n",
       "      <th>campaign</th>\n",
       "      <th>pdays</th>\n",
       "      <th>previous</th>\n",
       "      <th>poutcome</th>\n",
       "      <th>y</th>\n",
       "    </tr>\n",
       "  </thead>\n",
       "  <tbody>\n",
       "    <tr>\n",
       "      <th>0</th>\n",
       "      <td>58</td>\n",
       "      <td>management</td>\n",
       "      <td>married</td>\n",
       "      <td>tertiary</td>\n",
       "      <td>no</td>\n",
       "      <td>2143</td>\n",
       "      <td>yes</td>\n",
       "      <td>no</td>\n",
       "      <td>unknown</td>\n",
       "      <td>5</td>\n",
       "      <td>may</td>\n",
       "      <td>261</td>\n",
       "      <td>1</td>\n",
       "      <td>-1</td>\n",
       "      <td>0</td>\n",
       "      <td>unknown</td>\n",
       "      <td>no</td>\n",
       "    </tr>\n",
       "    <tr>\n",
       "      <th>1</th>\n",
       "      <td>44</td>\n",
       "      <td>technician</td>\n",
       "      <td>single</td>\n",
       "      <td>secondary</td>\n",
       "      <td>no</td>\n",
       "      <td>29</td>\n",
       "      <td>yes</td>\n",
       "      <td>no</td>\n",
       "      <td>unknown</td>\n",
       "      <td>5</td>\n",
       "      <td>may</td>\n",
       "      <td>151</td>\n",
       "      <td>1</td>\n",
       "      <td>-1</td>\n",
       "      <td>0</td>\n",
       "      <td>unknown</td>\n",
       "      <td>no</td>\n",
       "    </tr>\n",
       "    <tr>\n",
       "      <th>2</th>\n",
       "      <td>33</td>\n",
       "      <td>entrepreneur</td>\n",
       "      <td>married</td>\n",
       "      <td>secondary</td>\n",
       "      <td>no</td>\n",
       "      <td>2</td>\n",
       "      <td>yes</td>\n",
       "      <td>yes</td>\n",
       "      <td>unknown</td>\n",
       "      <td>5</td>\n",
       "      <td>may</td>\n",
       "      <td>76</td>\n",
       "      <td>1</td>\n",
       "      <td>-1</td>\n",
       "      <td>0</td>\n",
       "      <td>unknown</td>\n",
       "      <td>no</td>\n",
       "    </tr>\n",
       "    <tr>\n",
       "      <th>3</th>\n",
       "      <td>47</td>\n",
       "      <td>blue-collar</td>\n",
       "      <td>married</td>\n",
       "      <td>unknown</td>\n",
       "      <td>no</td>\n",
       "      <td>1506</td>\n",
       "      <td>yes</td>\n",
       "      <td>no</td>\n",
       "      <td>unknown</td>\n",
       "      <td>5</td>\n",
       "      <td>may</td>\n",
       "      <td>92</td>\n",
       "      <td>1</td>\n",
       "      <td>-1</td>\n",
       "      <td>0</td>\n",
       "      <td>unknown</td>\n",
       "      <td>no</td>\n",
       "    </tr>\n",
       "    <tr>\n",
       "      <th>4</th>\n",
       "      <td>33</td>\n",
       "      <td>unknown</td>\n",
       "      <td>single</td>\n",
       "      <td>unknown</td>\n",
       "      <td>no</td>\n",
       "      <td>1</td>\n",
       "      <td>no</td>\n",
       "      <td>no</td>\n",
       "      <td>unknown</td>\n",
       "      <td>5</td>\n",
       "      <td>may</td>\n",
       "      <td>198</td>\n",
       "      <td>1</td>\n",
       "      <td>-1</td>\n",
       "      <td>0</td>\n",
       "      <td>unknown</td>\n",
       "      <td>no</td>\n",
       "    </tr>\n",
       "  </tbody>\n",
       "</table>\n",
       "</div>"
      ],
      "text/plain": [
       "   age           job  marital  education default  balance housing loan  \\\n",
       "0   58    management  married   tertiary      no     2143     yes   no   \n",
       "1   44    technician   single  secondary      no       29     yes   no   \n",
       "2   33  entrepreneur  married  secondary      no        2     yes  yes   \n",
       "3   47   blue-collar  married    unknown      no     1506     yes   no   \n",
       "4   33       unknown   single    unknown      no        1      no   no   \n",
       "\n",
       "   contact  day month  duration  campaign  pdays  previous poutcome   y  \n",
       "0  unknown    5   may       261         1     -1         0  unknown  no  \n",
       "1  unknown    5   may       151         1     -1         0  unknown  no  \n",
       "2  unknown    5   may        76         1     -1         0  unknown  no  \n",
       "3  unknown    5   may        92         1     -1         0  unknown  no  \n",
       "4  unknown    5   may       198         1     -1         0  unknown  no  "
      ]
     },
     "execution_count": 3,
     "metadata": {},
     "output_type": "execute_result"
    }
   ],
   "source": [
    "clients.head()"
   ]
  },
  {
   "cell_type": "code",
   "execution_count": 3,
   "id": "e59859d2",
   "metadata": {},
   "outputs": [],
   "source": [
    "#We transform target in 0/1\n",
    "clients['y']=clients['y'].map({'yes':1,'no':0})"
   ]
  },
  {
   "cell_type": "code",
   "execution_count": 4,
   "id": "4bb23931",
   "metadata": {},
   "outputs": [
    {
     "name": "stdout",
     "output_type": "stream",
     "text": [
      "['job', 'marital', 'education', 'default', 'housing', 'loan', 'contact', 'month', 'poutcome']\n"
     ]
    }
   ],
   "source": [
    "#Categorical columns\n",
    "cat_columns= list(clients.select_dtypes(object).columns)\n",
    "print(cat_columns)"
   ]
  },
  {
   "cell_type": "code",
   "execution_count": 5,
   "id": "cf3824ca",
   "metadata": {},
   "outputs": [
    {
     "name": "stdout",
     "output_type": "stream",
     "text": [
      "['age', 'balance', 'day', 'duration', 'campaign', 'pdays', 'previous', 'y']\n"
     ]
    }
   ],
   "source": [
    "#Numerical columns\n",
    "num_columns= list(clients.select_dtypes(int).columns)\n",
    "print(num_columns)"
   ]
  },
  {
   "cell_type": "markdown",
   "id": "86561e7f",
   "metadata": {},
   "source": [
    "## Target distribution"
   ]
  },
  {
   "cell_type": "code",
   "execution_count": 6,
   "id": "89b840f5",
   "metadata": {},
   "outputs": [
    {
     "data": {
      "text/plain": [
       "0    0.883015\n",
       "1    0.116985\n",
       "Name: y, dtype: float64"
      ]
     },
     "execution_count": 6,
     "metadata": {},
     "output_type": "execute_result"
    }
   ],
   "source": [
    "clients.y.value_counts(normalize=True)"
   ]
  },
  {
   "cell_type": "markdown",
   "id": "e76fba89",
   "metadata": {},
   "source": [
    "It’s a **highly imbalanced** dataset (target has 11.7% of yes and 88.3% of no)"
   ]
  },
  {
   "cell_type": "markdown",
   "id": "3283157c",
   "metadata": {},
   "source": [
    "## Correlation analysis (heat map)\n"
   ]
  },
  {
   "cell_type": "code",
   "execution_count": 7,
   "id": "815d4ce0",
   "metadata": {},
   "outputs": [
    {
     "data": {
      "image/png": "[encoded data removed]",
      "text/plain": [
       "<Figure size 936x576 with 2 Axes>"
      ]
     },
     "metadata": {
      "needs_background": "light"
     },
     "output_type": "display_data"
    }
   ],
   "source": [
    "plt.figure(figsize=(13,8))\n",
    "sns.heatmap(clients.corr().round(3), annot=True)\n",
    "plt.title('Correlation of Features')\n",
    "plt.show()"
   ]
  },
  {
   "cell_type": "code",
   "execution_count": 8,
   "id": "847142b3",
   "metadata": {},
   "outputs": [
    {
     "data": {
      "text/plain": [
       "age         0.025155\n",
       "balance     0.052838\n",
       "day        -0.028348\n",
       "duration    0.394521\n",
       "campaign   -0.073172\n",
       "pdays       0.103621\n",
       "previous    0.093236\n",
       "y           1.000000\n",
       "Name: y, dtype: float64"
      ]
     },
     "execution_count": 8,
     "metadata": {},
     "output_type": "execute_result"
    }
   ],
   "source": [
    "# Features correlation with the target\n",
    "clients.corr()['y']"
   ]
  },
  {
   "cell_type": "markdown",
   "id": "b9a1d7ed",
   "metadata": {},
   "source": [
    "From correlation matrix we observe:\n",
    "- There isn't significative correlation between the numerical features\n",
    "- There isn't significative correlation between the numerical features and the target (y)"
   ]
  },
  {
   "cell_type": "markdown",
   "id": "ac1b9ec6",
   "metadata": {},
   "source": [
    "# Features engineering"
   ]
  },
  {
   "cell_type": "markdown",
   "id": "72353d02",
   "metadata": {},
   "source": [
    "## Transform"
   ]
  },
  {
   "cell_type": "code",
   "execution_count": 9,
   "id": "65956079",
   "metadata": {},
   "outputs": [
    {
     "data": {
      "text/html": [
       "<div>\n",
       "<style scoped>\n",
       "    .dataframe tbody tr th:only-of-type {\n",
       "        vertical-align: middle;\n",
       "    }\n",
       "\n",
       "    .dataframe tbody tr th {\n",
       "        vertical-align: top;\n",
       "    }\n",
       "\n",
       "    .dataframe thead th {\n",
       "        text-align: right;\n",
       "    }\n",
       "</style>\n",
       "<table border=\"1\" class=\"dataframe\">\n",
       "  <thead>\n",
       "    <tr style=\"text-align: right;\">\n",
       "      <th></th>\n",
       "      <th>age</th>\n",
       "      <th>job</th>\n",
       "      <th>marital</th>\n",
       "      <th>education</th>\n",
       "      <th>default</th>\n",
       "      <th>balance</th>\n",
       "      <th>housing</th>\n",
       "      <th>loan</th>\n",
       "      <th>contact</th>\n",
       "      <th>day</th>\n",
       "      <th>month</th>\n",
       "      <th>duration</th>\n",
       "      <th>campaign</th>\n",
       "      <th>pdays</th>\n",
       "      <th>previous</th>\n",
       "      <th>poutcome</th>\n",
       "      <th>y</th>\n",
       "    </tr>\n",
       "  </thead>\n",
       "  <tbody>\n",
       "    <tr>\n",
       "      <th>0</th>\n",
       "      <td>58</td>\n",
       "      <td>management</td>\n",
       "      <td>married</td>\n",
       "      <td>tertiary</td>\n",
       "      <td>0</td>\n",
       "      <td>2143</td>\n",
       "      <td>1</td>\n",
       "      <td>0</td>\n",
       "      <td>unknown</td>\n",
       "      <td>5</td>\n",
       "      <td>may</td>\n",
       "      <td>261</td>\n",
       "      <td>1</td>\n",
       "      <td>-1</td>\n",
       "      <td>0</td>\n",
       "      <td>unknown</td>\n",
       "      <td>0</td>\n",
       "    </tr>\n",
       "    <tr>\n",
       "      <th>1</th>\n",
       "      <td>44</td>\n",
       "      <td>technician</td>\n",
       "      <td>single</td>\n",
       "      <td>secondary</td>\n",
       "      <td>0</td>\n",
       "      <td>29</td>\n",
       "      <td>1</td>\n",
       "      <td>0</td>\n",
       "      <td>unknown</td>\n",
       "      <td>5</td>\n",
       "      <td>may</td>\n",
       "      <td>151</td>\n",
       "      <td>1</td>\n",
       "      <td>-1</td>\n",
       "      <td>0</td>\n",
       "      <td>unknown</td>\n",
       "      <td>0</td>\n",
       "    </tr>\n",
       "    <tr>\n",
       "      <th>2</th>\n",
       "      <td>33</td>\n",
       "      <td>entrepreneur</td>\n",
       "      <td>married</td>\n",
       "      <td>secondary</td>\n",
       "      <td>0</td>\n",
       "      <td>2</td>\n",
       "      <td>1</td>\n",
       "      <td>1</td>\n",
       "      <td>unknown</td>\n",
       "      <td>5</td>\n",
       "      <td>may</td>\n",
       "      <td>76</td>\n",
       "      <td>1</td>\n",
       "      <td>-1</td>\n",
       "      <td>0</td>\n",
       "      <td>unknown</td>\n",
       "      <td>0</td>\n",
       "    </tr>\n",
       "    <tr>\n",
       "      <th>3</th>\n",
       "      <td>47</td>\n",
       "      <td>blue-collar</td>\n",
       "      <td>married</td>\n",
       "      <td>unknown</td>\n",
       "      <td>0</td>\n",
       "      <td>1506</td>\n",
       "      <td>1</td>\n",
       "      <td>0</td>\n",
       "      <td>unknown</td>\n",
       "      <td>5</td>\n",
       "      <td>may</td>\n",
       "      <td>92</td>\n",
       "      <td>1</td>\n",
       "      <td>-1</td>\n",
       "      <td>0</td>\n",
       "      <td>unknown</td>\n",
       "      <td>0</td>\n",
       "    </tr>\n",
       "    <tr>\n",
       "      <th>4</th>\n",
       "      <td>33</td>\n",
       "      <td>unknown</td>\n",
       "      <td>single</td>\n",
       "      <td>unknown</td>\n",
       "      <td>0</td>\n",
       "      <td>1</td>\n",
       "      <td>0</td>\n",
       "      <td>0</td>\n",
       "      <td>unknown</td>\n",
       "      <td>5</td>\n",
       "      <td>may</td>\n",
       "      <td>198</td>\n",
       "      <td>1</td>\n",
       "      <td>-1</td>\n",
       "      <td>0</td>\n",
       "      <td>unknown</td>\n",
       "      <td>0</td>\n",
       "    </tr>\n",
       "  </tbody>\n",
       "</table>\n",
       "</div>"
      ],
      "text/plain": [
       "   age           job  marital  education  default  balance  housing  loan  \\\n",
       "0   58    management  married   tertiary        0     2143        1     0   \n",
       "1   44    technician   single  secondary        0       29        1     0   \n",
       "2   33  entrepreneur  married  secondary        0        2        1     1   \n",
       "3   47   blue-collar  married    unknown        0     1506        1     0   \n",
       "4   33       unknown   single    unknown        0        1        0     0   \n",
       "\n",
       "   contact  day month  duration  campaign  pdays  previous poutcome  y  \n",
       "0  unknown    5   may       261         1     -1         0  unknown  0  \n",
       "1  unknown    5   may       151         1     -1         0  unknown  0  \n",
       "2  unknown    5   may        76         1     -1         0  unknown  0  \n",
       "3  unknown    5   may        92         1     -1         0  unknown  0  \n",
       "4  unknown    5   may       198         1     -1         0  unknown  0  "
      ]
     },
     "execution_count": 9,
     "metadata": {},
     "output_type": "execute_result"
    }
   ],
   "source": [
    "#We transform columns yes/no in 0/1 \n",
    "\n",
    "clients['default']= clients['default'].map({'yes':1,'no':0})\n",
    "clients['housing']= clients['housing'].map({'yes':1,'no':0})\n",
    "clients['loan']= clients['loan'].map({'yes':1,'no':0})\n",
    "clients.head()"
   ]
  },
  {
   "cell_type": "markdown",
   "id": "9a18b9e3",
   "metadata": {},
   "source": [
    "## Scaling"
   ]
  },
  {
   "cell_type": "markdown",
   "id": "7dafaa7e",
   "metadata": {},
   "source": [
    "We scale the numerical features with RobustScaler because they have many otuliers and have very different rangs."
   ]
  },
  {
   "cell_type": "code",
   "execution_count": 10,
   "id": "231d44e9",
   "metadata": {},
   "outputs": [],
   "source": [
    "columns_Robust = ['age', 'balance', 'day', 'duration', 'campaign', 'pdays', 'previous']\n",
    "clients[columns_Robust]= RobustScaler().fit_transform(clients[columns_Robust])"
   ]
  },
  {
   "cell_type": "markdown",
   "id": "3e1330a3",
   "metadata": {},
   "source": [
    "We make dummies with categorical features"
   ]
  },
  {
   "cell_type": "code",
   "execution_count": 11,
   "id": "8f343512",
   "metadata": {},
   "outputs": [],
   "source": [
    "columns_dummies= ['job', 'marital', 'education', 'contact', 'month', 'poutcome']\n",
    "clients = pd.get_dummies(clients, columns= columns_dummies)"
   ]
  },
  {
   "cell_type": "code",
   "execution_count": 12,
   "id": "a339390a",
   "metadata": {},
   "outputs": [
    {
     "data": {
      "text/html": [
       "<div>\n",
       "<style scoped>\n",
       "    .dataframe tbody tr th:only-of-type {\n",
       "        vertical-align: middle;\n",
       "    }\n",
       "\n",
       "    .dataframe tbody tr th {\n",
       "        vertical-align: top;\n",
       "    }\n",
       "\n",
       "    .dataframe thead th {\n",
       "        text-align: right;\n",
       "    }\n",
       "</style>\n",
       "<table border=\"1\" class=\"dataframe\">\n",
       "  <thead>\n",
       "    <tr style=\"text-align: right;\">\n",
       "      <th></th>\n",
       "      <th>age</th>\n",
       "      <th>default</th>\n",
       "      <th>balance</th>\n",
       "      <th>housing</th>\n",
       "      <th>loan</th>\n",
       "      <th>day</th>\n",
       "      <th>duration</th>\n",
       "      <th>campaign</th>\n",
       "      <th>pdays</th>\n",
       "      <th>previous</th>\n",
       "      <th>y</th>\n",
       "      <th>job_admin.</th>\n",
       "      <th>job_blue-collar</th>\n",
       "      <th>job_entrepreneur</th>\n",
       "      <th>job_housemaid</th>\n",
       "      <th>job_management</th>\n",
       "      <th>job_retired</th>\n",
       "      <th>job_self-employed</th>\n",
       "      <th>job_services</th>\n",
       "      <th>job_student</th>\n",
       "      <th>job_technician</th>\n",
       "      <th>job_unemployed</th>\n",
       "      <th>job_unknown</th>\n",
       "      <th>marital_divorced</th>\n",
       "      <th>marital_married</th>\n",
       "      <th>marital_single</th>\n",
       "      <th>education_primary</th>\n",
       "      <th>education_secondary</th>\n",
       "      <th>education_tertiary</th>\n",
       "      <th>education_unknown</th>\n",
       "      <th>contact_cellular</th>\n",
       "      <th>contact_telephone</th>\n",
       "      <th>contact_unknown</th>\n",
       "      <th>month_apr</th>\n",
       "      <th>month_aug</th>\n",
       "      <th>month_dec</th>\n",
       "      <th>month_feb</th>\n",
       "      <th>month_jan</th>\n",
       "      <th>month_jul</th>\n",
       "      <th>month_jun</th>\n",
       "      <th>month_mar</th>\n",
       "      <th>month_may</th>\n",
       "      <th>month_nov</th>\n",
       "      <th>month_oct</th>\n",
       "      <th>month_sep</th>\n",
       "      <th>poutcome_failure</th>\n",
       "      <th>poutcome_other</th>\n",
       "      <th>poutcome_success</th>\n",
       "      <th>poutcome_unknown</th>\n",
       "    </tr>\n",
       "  </thead>\n",
       "  <tbody>\n",
       "    <tr>\n",
       "      <th>0</th>\n",
       "      <td>1.266667</td>\n",
       "      <td>0</td>\n",
       "      <td>1.250000</td>\n",
       "      <td>1</td>\n",
       "      <td>0</td>\n",
       "      <td>-0.846154</td>\n",
       "      <td>0.375000</td>\n",
       "      <td>-0.5</td>\n",
       "      <td>0.0</td>\n",
       "      <td>0.0</td>\n",
       "      <td>0</td>\n",
       "      <td>0</td>\n",
       "      <td>0</td>\n",
       "      <td>0</td>\n",
       "      <td>0</td>\n",
       "      <td>1</td>\n",
       "      <td>0</td>\n",
       "      <td>0</td>\n",
       "      <td>0</td>\n",
       "      <td>0</td>\n",
       "      <td>0</td>\n",
       "      <td>0</td>\n",
       "      <td>0</td>\n",
       "      <td>0</td>\n",
       "      <td>1</td>\n",
       "      <td>0</td>\n",
       "      <td>0</td>\n",
       "      <td>0</td>\n",
       "      <td>1</td>\n",
       "      <td>0</td>\n",
       "      <td>0</td>\n",
       "      <td>0</td>\n",
       "      <td>1</td>\n",
       "      <td>0</td>\n",
       "      <td>0</td>\n",
       "      <td>0</td>\n",
       "      <td>0</td>\n",
       "      <td>0</td>\n",
       "      <td>0</td>\n",
       "      <td>0</td>\n",
       "      <td>0</td>\n",
       "      <td>1</td>\n",
       "      <td>0</td>\n",
       "      <td>0</td>\n",
       "      <td>0</td>\n",
       "      <td>0</td>\n",
       "      <td>0</td>\n",
       "      <td>0</td>\n",
       "      <td>1</td>\n",
       "    </tr>\n",
       "    <tr>\n",
       "      <th>1</th>\n",
       "      <td>0.333333</td>\n",
       "      <td>0</td>\n",
       "      <td>-0.308997</td>\n",
       "      <td>1</td>\n",
       "      <td>0</td>\n",
       "      <td>-0.846154</td>\n",
       "      <td>-0.134259</td>\n",
       "      <td>-0.5</td>\n",
       "      <td>0.0</td>\n",
       "      <td>0.0</td>\n",
       "      <td>0</td>\n",
       "      <td>0</td>\n",
       "      <td>0</td>\n",
       "      <td>0</td>\n",
       "      <td>0</td>\n",
       "      <td>0</td>\n",
       "      <td>0</td>\n",
       "      <td>0</td>\n",
       "      <td>0</td>\n",
       "      <td>0</td>\n",
       "      <td>1</td>\n",
       "      <td>0</td>\n",
       "      <td>0</td>\n",
       "      <td>0</td>\n",
       "      <td>0</td>\n",
       "      <td>1</td>\n",
       "      <td>0</td>\n",
       "      <td>1</td>\n",
       "      <td>0</td>\n",
       "      <td>0</td>\n",
       "      <td>0</td>\n",
       "      <td>0</td>\n",
       "      <td>1</td>\n",
       "      <td>0</td>\n",
       "      <td>0</td>\n",
       "      <td>0</td>\n",
       "      <td>0</td>\n",
       "      <td>0</td>\n",
       "      <td>0</td>\n",
       "      <td>0</td>\n",
       "      <td>0</td>\n",
       "      <td>1</td>\n",
       "      <td>0</td>\n",
       "      <td>0</td>\n",
       "      <td>0</td>\n",
       "      <td>0</td>\n",
       "      <td>0</td>\n",
       "      <td>0</td>\n",
       "      <td>1</td>\n",
       "    </tr>\n",
       "    <tr>\n",
       "      <th>2</th>\n",
       "      <td>-0.400000</td>\n",
       "      <td>0</td>\n",
       "      <td>-0.328909</td>\n",
       "      <td>1</td>\n",
       "      <td>1</td>\n",
       "      <td>-0.846154</td>\n",
       "      <td>-0.481481</td>\n",
       "      <td>-0.5</td>\n",
       "      <td>0.0</td>\n",
       "      <td>0.0</td>\n",
       "      <td>0</td>\n",
       "      <td>0</td>\n",
       "      <td>0</td>\n",
       "      <td>1</td>\n",
       "      <td>0</td>\n",
       "      <td>0</td>\n",
       "      <td>0</td>\n",
       "      <td>0</td>\n",
       "      <td>0</td>\n",
       "      <td>0</td>\n",
       "      <td>0</td>\n",
       "      <td>0</td>\n",
       "      <td>0</td>\n",
       "      <td>0</td>\n",
       "      <td>1</td>\n",
       "      <td>0</td>\n",
       "      <td>0</td>\n",
       "      <td>1</td>\n",
       "      <td>0</td>\n",
       "      <td>0</td>\n",
       "      <td>0</td>\n",
       "      <td>0</td>\n",
       "      <td>1</td>\n",
       "      <td>0</td>\n",
       "      <td>0</td>\n",
       "      <td>0</td>\n",
       "      <td>0</td>\n",
       "      <td>0</td>\n",
       "      <td>0</td>\n",
       "      <td>0</td>\n",
       "      <td>0</td>\n",
       "      <td>1</td>\n",
       "      <td>0</td>\n",
       "      <td>0</td>\n",
       "      <td>0</td>\n",
       "      <td>0</td>\n",
       "      <td>0</td>\n",
       "      <td>0</td>\n",
       "      <td>1</td>\n",
       "    </tr>\n",
       "    <tr>\n",
       "      <th>3</th>\n",
       "      <td>0.533333</td>\n",
       "      <td>0</td>\n",
       "      <td>0.780236</td>\n",
       "      <td>1</td>\n",
       "      <td>0</td>\n",
       "      <td>-0.846154</td>\n",
       "      <td>-0.407407</td>\n",
       "      <td>-0.5</td>\n",
       "      <td>0.0</td>\n",
       "      <td>0.0</td>\n",
       "      <td>0</td>\n",
       "      <td>0</td>\n",
       "      <td>1</td>\n",
       "      <td>0</td>\n",
       "      <td>0</td>\n",
       "      <td>0</td>\n",
       "      <td>0</td>\n",
       "      <td>0</td>\n",
       "      <td>0</td>\n",
       "      <td>0</td>\n",
       "      <td>0</td>\n",
       "      <td>0</td>\n",
       "      <td>0</td>\n",
       "      <td>0</td>\n",
       "      <td>1</td>\n",
       "      <td>0</td>\n",
       "      <td>0</td>\n",
       "      <td>0</td>\n",
       "      <td>0</td>\n",
       "      <td>1</td>\n",
       "      <td>0</td>\n",
       "      <td>0</td>\n",
       "      <td>1</td>\n",
       "      <td>0</td>\n",
       "      <td>0</td>\n",
       "      <td>0</td>\n",
       "      <td>0</td>\n",
       "      <td>0</td>\n",
       "      <td>0</td>\n",
       "      <td>0</td>\n",
       "      <td>0</td>\n",
       "      <td>1</td>\n",
       "      <td>0</td>\n",
       "      <td>0</td>\n",
       "      <td>0</td>\n",
       "      <td>0</td>\n",
       "      <td>0</td>\n",
       "      <td>0</td>\n",
       "      <td>1</td>\n",
       "    </tr>\n",
       "    <tr>\n",
       "      <th>4</th>\n",
       "      <td>-0.400000</td>\n",
       "      <td>0</td>\n",
       "      <td>-0.329646</td>\n",
       "      <td>0</td>\n",
       "      <td>0</td>\n",
       "      <td>-0.846154</td>\n",
       "      <td>0.083333</td>\n",
       "      <td>-0.5</td>\n",
       "      <td>0.0</td>\n",
       "      <td>0.0</td>\n",
       "      <td>0</td>\n",
       "      <td>0</td>\n",
       "      <td>0</td>\n",
       "      <td>0</td>\n",
       "      <td>0</td>\n",
       "      <td>0</td>\n",
       "      <td>0</td>\n",
       "      <td>0</td>\n",
       "      <td>0</td>\n",
       "      <td>0</td>\n",
       "      <td>0</td>\n",
       "      <td>0</td>\n",
       "      <td>1</td>\n",
       "      <td>0</td>\n",
       "      <td>0</td>\n",
       "      <td>1</td>\n",
       "      <td>0</td>\n",
       "      <td>0</td>\n",
       "      <td>0</td>\n",
       "      <td>1</td>\n",
       "      <td>0</td>\n",
       "      <td>0</td>\n",
       "      <td>1</td>\n",
       "      <td>0</td>\n",
       "      <td>0</td>\n",
       "      <td>0</td>\n",
       "      <td>0</td>\n",
       "      <td>0</td>\n",
       "      <td>0</td>\n",
       "      <td>0</td>\n",
       "      <td>0</td>\n",
       "      <td>1</td>\n",
       "      <td>0</td>\n",
       "      <td>0</td>\n",
       "      <td>0</td>\n",
       "      <td>0</td>\n",
       "      <td>0</td>\n",
       "      <td>0</td>\n",
       "      <td>1</td>\n",
       "    </tr>\n",
       "  </tbody>\n",
       "</table>\n",
       "</div>"
      ],
      "text/plain": [
       "        age  default   balance  housing  loan       day  duration  campaign  \\\n",
       "0  1.266667        0  1.250000        1     0 -0.846154  0.375000      -0.5   \n",
       "1  0.333333        0 -0.308997        1     0 -0.846154 -0.134259      -0.5   \n",
       "2 -0.400000        0 -0.328909        1     1 -0.846154 -0.481481      -0.5   \n",
       "3  0.533333        0  0.780236        1     0 -0.846154 -0.407407      -0.5   \n",
       "4 -0.400000        0 -0.329646        0     0 -0.846154  0.083333      -0.5   \n",
       "\n",
       "   pdays  previous  y  job_admin.  job_blue-collar  job_entrepreneur  \\\n",
       "0    0.0       0.0  0           0                0                 0   \n",
       "1    0.0       0.0  0           0                0                 0   \n",
       "2    0.0       0.0  0           0                0                 1   \n",
       "3    0.0       0.0  0           0                1                 0   \n",
       "4    0.0       0.0  0           0                0                 0   \n",
       "\n",
       "   job_housemaid  job_management  job_retired  job_self-employed  \\\n",
       "0              0               1            0                  0   \n",
       "1              0               0            0                  0   \n",
       "2              0               0            0                  0   \n",
       "3              0               0            0                  0   \n",
       "4              0               0            0                  0   \n",
       "\n",
       "   job_services  job_student  job_technician  job_unemployed  job_unknown  \\\n",
       "0             0            0               0               0            0   \n",
       "1             0            0               1               0            0   \n",
       "2             0            0               0               0            0   \n",
       "3             0            0               0               0            0   \n",
       "4             0            0               0               0            1   \n",
       "\n",
       "   marital_divorced  marital_married  marital_single  education_primary  \\\n",
       "0                 0                1               0                  0   \n",
       "1                 0                0               1                  0   \n",
       "2                 0                1               0                  0   \n",
       "3                 0                1               0                  0   \n",
       "4                 0                0               1                  0   \n",
       "\n",
       "   education_secondary  education_tertiary  education_unknown  \\\n",
       "0                    0                   1                  0   \n",
       "1                    1                   0                  0   \n",
       "2                    1                   0                  0   \n",
       "3                    0                   0                  1   \n",
       "4                    0                   0                  1   \n",
       "\n",
       "   contact_cellular  contact_telephone  contact_unknown  month_apr  month_aug  \\\n",
       "0                 0                  0                1          0          0   \n",
       "1                 0                  0                1          0          0   \n",
       "2                 0                  0                1          0          0   \n",
       "3                 0                  0                1          0          0   \n",
       "4                 0                  0                1          0          0   \n",
       "\n",
       "   month_dec  month_feb  month_jan  month_jul  month_jun  month_mar  \\\n",
       "0          0          0          0          0          0          0   \n",
       "1          0          0          0          0          0          0   \n",
       "2          0          0          0          0          0          0   \n",
       "3          0          0          0          0          0          0   \n",
       "4          0          0          0          0          0          0   \n",
       "\n",
       "   month_may  month_nov  month_oct  month_sep  poutcome_failure  \\\n",
       "0          1          0          0          0                 0   \n",
       "1          1          0          0          0                 0   \n",
       "2          1          0          0          0                 0   \n",
       "3          1          0          0          0                 0   \n",
       "4          1          0          0          0                 0   \n",
       "\n",
       "   poutcome_other  poutcome_success  poutcome_unknown  \n",
       "0               0                 0                 1  \n",
       "1               0                 0                 1  \n",
       "2               0                 0                 1  \n",
       "3               0                 0                 1  \n",
       "4               0                 0                 1  "
      ]
     },
     "execution_count": 12,
     "metadata": {},
     "output_type": "execute_result"
    }
   ],
   "source": [
    "clients.head()"
   ]
  },
  {
   "cell_type": "markdown",
   "id": "5973cece",
   "metadata": {},
   "source": [
    "## Selection"
   ]
  },
  {
   "cell_type": "markdown",
   "id": "824eaac5",
   "metadata": {},
   "source": [
    "We select **all the features** because there is not correlation between them and all of them may have influence in the target "
   ]
  },
  {
   "cell_type": "markdown",
   "id": "1c41f1a9",
   "metadata": {},
   "source": [
    "# Splitting the data set\n",
    "\n",
    "For training and testing the models we'll use 2 different datasets:\n",
    "- Imbalanced dataset. Train/Test (30% Test)\n",
    "- Balanced dataset:  undersampling to get 30% of and target=1 and train/Test (30% Test)"
   ]
  },
  {
   "cell_type": "code",
   "execution_count": 13,
   "id": "cdb1a5ef",
   "metadata": {},
   "outputs": [],
   "source": [
    "#Imbalanced dataset\n",
    "y= clients['y']\n",
    "x= clients.drop(['y'], axis=1)\n",
    "X_train, X_test, y_train, y_test = train_test_split(x, y, test_size=0.30, random_state=0)"
   ]
  },
  {
   "cell_type": "code",
   "execution_count": 14,
   "id": "b842aedc",
   "metadata": {},
   "outputs": [
    {
     "data": {
      "text/plain": [
       "(31647, 48)"
      ]
     },
     "execution_count": 14,
     "metadata": {},
     "output_type": "execute_result"
    }
   ],
   "source": [
    "X_train.shape"
   ]
  },
  {
   "cell_type": "code",
   "execution_count": 15,
   "id": "16960a2c",
   "metadata": {},
   "outputs": [
    {
     "data": {
      "text/plain": [
       "0    0.883275\n",
       "1    0.116725\n",
       "Name: y, dtype: float64"
      ]
     },
     "execution_count": 15,
     "metadata": {},
     "output_type": "execute_result"
    }
   ],
   "source": [
    "y_train.value_counts(normalize=True)"
   ]
  },
  {
   "cell_type": "markdown",
   "id": "8ea10ff0",
   "metadata": {},
   "source": [
    "We observe that in train dataset the target percentaje is similar to percentage in total data."
   ]
  },
  {
   "cell_type": "code",
   "execution_count": 16,
   "id": "2e7b4431",
   "metadata": {},
   "outputs": [],
   "source": [
    "#Balanced dataset\n",
    "X_train_b ,y_train_b = RandomUnderSampler(sampling_strategy= 0.43, random_state=0).fit_resample(X_train, y_train)"
   ]
  },
  {
   "cell_type": "code",
   "execution_count": 76,
   "id": "a56f2960",
   "metadata": {},
   "outputs": [
    {
     "data": {
      "text/plain": [
       "(12284, 48)"
      ]
     },
     "execution_count": 76,
     "metadata": {},
     "output_type": "execute_result"
    }
   ],
   "source": [
    "X_train_b.shape"
   ]
  },
  {
   "cell_type": "code",
   "execution_count": 77,
   "id": "9fecdfff",
   "metadata": {},
   "outputs": [
    {
     "data": {
      "text/plain": [
       "0    0.699284\n",
       "1    0.300716\n",
       "Name: y, dtype: float64"
      ]
     },
     "execution_count": 77,
     "metadata": {},
     "output_type": "execute_result"
    }
   ],
   "source": [
    "y_train_b.value_counts(normalize=True)"
   ]
  },
  {
   "cell_type": "markdown",
   "id": "2bd1316d",
   "metadata": {},
   "source": [
    "The balanced train dataset has 12.284 rows and 30% of yes"
   ]
  },
  {
   "cell_type": "markdown",
   "id": "1954a58c",
   "metadata": {},
   "source": [
    "# Testing classification models"
   ]
  },
  {
   "cell_type": "markdown",
   "id": "54241b56",
   "metadata": {},
   "source": [
    "We are testing this classification models: Logistic Regression, Decision Tree, Random Forest, AdaBoostClassifier, GradientBoostingClassifier, K-Nearest Neighbor, Balanced Bagging Classifier.   \n",
    "We are interesting in **optimize the accuracy but having the less False Positives**. For the bank it's very important to predict a right number of positive just to know the total amount they will obtain and they can use for investments."
   ]
  },
  {
   "cell_type": "markdown",
   "id": "e0e4a212",
   "metadata": {},
   "source": [
    "## Imbalanced dataset"
   ]
  },
  {
   "cell_type": "code",
   "execution_count": 16,
   "id": "80787576",
   "metadata": {},
   "outputs": [
    {
     "data": {
      "text/html": [
       "<div>\n",
       "<style scoped>\n",
       "    .dataframe tbody tr th:only-of-type {\n",
       "        vertical-align: middle;\n",
       "    }\n",
       "\n",
       "    .dataframe tbody tr th {\n",
       "        vertical-align: top;\n",
       "    }\n",
       "\n",
       "    .dataframe thead th {\n",
       "        text-align: right;\n",
       "    }\n",
       "</style>\n",
       "<table border=\"1\" class=\"dataframe\">\n",
       "  <thead>\n",
       "    <tr style=\"text-align: right;\">\n",
       "      <th></th>\n",
       "      <th>Accuracy</th>\n",
       "      <th>Precision</th>\n",
       "      <th>Recall</th>\n",
       "      <th>F1</th>\n",
       "      <th>Roc_Auc</th>\n",
       "    </tr>\n",
       "  </thead>\n",
       "  <tbody>\n",
       "    <tr>\n",
       "      <th>Logistic Regression</th>\n",
       "      <td>0.899145</td>\n",
       "      <td>0.349843</td>\n",
       "      <td>0.627672</td>\n",
       "      <td>0.449275</td>\n",
       "      <td>0.772928</td>\n",
       "    </tr>\n",
       "    <tr>\n",
       "      <th>Decision Tree</th>\n",
       "      <td>0.872162</td>\n",
       "      <td>0.489655</td>\n",
       "      <td>0.459142</td>\n",
       "      <td>0.473908</td>\n",
       "      <td>0.695262</td>\n",
       "    </tr>\n",
       "    <tr>\n",
       "      <th>Random Forest</th>\n",
       "      <td>0.902757</td>\n",
       "      <td>0.389342</td>\n",
       "      <td>0.642857</td>\n",
       "      <td>0.484967</td>\n",
       "      <td>0.782772</td>\n",
       "    </tr>\n",
       "    <tr>\n",
       "      <th>AdaBoostClassifier</th>\n",
       "      <td>0.899071</td>\n",
       "      <td>0.391223</td>\n",
       "      <td>0.610568</td>\n",
       "      <td>0.476882</td>\n",
       "      <td>0.766574</td>\n",
       "    </tr>\n",
       "    <tr>\n",
       "      <th>GradientBoostingClassifier</th>\n",
       "      <td>0.902536</td>\n",
       "      <td>0.420063</td>\n",
       "      <td>0.627929</td>\n",
       "      <td>0.503381</td>\n",
       "      <td>0.776956</td>\n",
       "    </tr>\n",
       "    <tr>\n",
       "      <th>K-Nearest Neighbor</th>\n",
       "      <td>0.891920</td>\n",
       "      <td>0.344201</td>\n",
       "      <td>0.566563</td>\n",
       "      <td>0.428237</td>\n",
       "      <td>0.741757</td>\n",
       "    </tr>\n",
       "    <tr>\n",
       "      <th>Balanced Bagging Classifier</th>\n",
       "      <td>0.854763</td>\n",
       "      <td>0.863950</td>\n",
       "      <td>0.440115</td>\n",
       "      <td>0.583157</td>\n",
       "      <td>0.709658</td>\n",
       "    </tr>\n",
       "  </tbody>\n",
       "</table>\n",
       "</div>"
      ],
      "text/plain": [
       "                             Accuracy  Precision    Recall        F1   Roc_Auc\n",
       "Logistic Regression          0.899145   0.349843  0.627672  0.449275  0.772928\n",
       "Decision Tree                0.872162   0.489655  0.459142  0.473908  0.695262\n",
       "Random Forest                0.902757   0.389342  0.642857  0.484967  0.782772\n",
       "AdaBoostClassifier           0.899071   0.391223  0.610568  0.476882  0.766574\n",
       "GradientBoostingClassifier   0.902536   0.420063  0.627929  0.503381  0.776956\n",
       "K-Nearest Neighbor           0.891920   0.344201  0.566563  0.428237  0.741757\n",
       "Balanced Bagging Classifier  0.854763   0.863950  0.440115  0.583157  0.709658"
      ]
     },
     "execution_count": 16,
     "metadata": {},
     "output_type": "execute_result"
    }
   ],
   "source": [
    "# Building, training and testing the models\n",
    "models = {}                                             #Dictionary with models to test\n",
    "models['Logistic Regression'] = LogisticRegression(max_iter=500)\n",
    "models['Decision Tree'] = DecisionTreeClassifier()\n",
    "models['Random Forest'] = RandomForestClassifier(random_state=0)\n",
    "models['AdaBoostClassifier'] = AdaBoostClassifier(random_state=0)\n",
    "models['GradientBoostingClassifier'] = GradientBoostingClassifier(random_state=0)\n",
    "models['K-Nearest Neighbor'] = KNeighborsClassifier()\n",
    "models['Balanced Bagging Classifier'] = BalancedBaggingClassifier(base_estimator= RandomForestClassifier(),random_state=0)\n",
    "\n",
    "accuracy, precision, recall, f1, roc = {}, {}, {}, {}, {}\n",
    "\n",
    "for key in models.keys():\n",
    "    models[key].fit(X_train, y_train)                           # Training the models\n",
    "    predictions = models[key].predict(X_test)                   # Prediction \n",
    "       \n",
    "    accuracy[key] = accuracy_score(predictions, y_test)         # Calculate Metrics\n",
    "    precision[key] = precision_score(predictions, y_test)\n",
    "    recall[key] = recall_score(predictions, y_test)\n",
    "    f1[key] = f1_score(predictions, y_test)\n",
    "    roc[key] = roc_auc_score(predictions, y_test)\n",
    "    \n",
    "metrics = pd.DataFrame(index=models.keys(), columns=['Accuracy', 'Precision', 'Recall', 'F1', 'Roc_Auc'])    # DF with metrics\n",
    "metrics['Accuracy'] = accuracy.values()\n",
    "metrics['Precision'] = precision.values()\n",
    "metrics['Recall'] = recall.values()\n",
    "metrics['F1'] = f1.values()\n",
    "metrics['Roc_Auc'] = roc.values()\n",
    "metrics\n"
   ]
  },
  {
   "cell_type": "markdown",
   "id": "fa160207",
   "metadata": {},
   "source": [
    "We calculate the confusion matrix of the models"
   ]
  },
  {
   "cell_type": "code",
   "execution_count": 12,
   "id": "c9f388df",
   "metadata": {},
   "outputs": [
    {
     "name": "stdout",
     "output_type": "stream",
     "text": [
      "(*) TP: True positive, TN: True negative, FP; False positive, FN: False negative\n"
     ]
    },
    {
     "data": {
      "text/html": [
       "<div>\n",
       "<style scoped>\n",
       "    .dataframe tbody tr th:only-of-type {\n",
       "        vertical-align: middle;\n",
       "    }\n",
       "\n",
       "    .dataframe tbody tr th {\n",
       "        vertical-align: top;\n",
       "    }\n",
       "\n",
       "    .dataframe thead th {\n",
       "        text-align: right;\n",
       "    }\n",
       "</style>\n",
       "<table border=\"1\" class=\"dataframe\">\n",
       "  <thead>\n",
       "    <tr style=\"text-align: right;\">\n",
       "      <th></th>\n",
       "      <th>TP</th>\n",
       "      <th>TN</th>\n",
       "      <th>FP</th>\n",
       "      <th>FN</th>\n",
       "    </tr>\n",
       "  </thead>\n",
       "  <tbody>\n",
       "    <tr>\n",
       "      <th>Logistic Regression</th>\n",
       "      <td>558</td>\n",
       "      <td>11638</td>\n",
       "      <td>331</td>\n",
       "      <td>1037</td>\n",
       "    </tr>\n",
       "    <tr>\n",
       "      <th>Decision Tree</th>\n",
       "      <td>787</td>\n",
       "      <td>11065</td>\n",
       "      <td>904</td>\n",
       "      <td>808</td>\n",
       "    </tr>\n",
       "    <tr>\n",
       "      <th>Random Forest</th>\n",
       "      <td>621</td>\n",
       "      <td>11624</td>\n",
       "      <td>345</td>\n",
       "      <td>974</td>\n",
       "    </tr>\n",
       "    <tr>\n",
       "      <th>AdaBoostClassifier</th>\n",
       "      <td>624</td>\n",
       "      <td>11571</td>\n",
       "      <td>398</td>\n",
       "      <td>971</td>\n",
       "    </tr>\n",
       "    <tr>\n",
       "      <th>GradientBoostingClassifier</th>\n",
       "      <td>670</td>\n",
       "      <td>11572</td>\n",
       "      <td>397</td>\n",
       "      <td>925</td>\n",
       "    </tr>\n",
       "    <tr>\n",
       "      <th>K-Nearest Neighbor</th>\n",
       "      <td>549</td>\n",
       "      <td>11549</td>\n",
       "      <td>420</td>\n",
       "      <td>1046</td>\n",
       "    </tr>\n",
       "    <tr>\n",
       "      <th>Balanced Bagging Classifier</th>\n",
       "      <td>1378</td>\n",
       "      <td>10216</td>\n",
       "      <td>1753</td>\n",
       "      <td>217</td>\n",
       "    </tr>\n",
       "  </tbody>\n",
       "</table>\n",
       "</div>"
      ],
      "text/plain": [
       "                               TP     TN    FP    FN\n",
       "Logistic Regression           558  11638   331  1037\n",
       "Decision Tree                 787  11065   904   808\n",
       "Random Forest                 621  11624   345   974\n",
       "AdaBoostClassifier            624  11571   398   971\n",
       "GradientBoostingClassifier    670  11572   397   925\n",
       "K-Nearest Neighbor            549  11549   420  1046\n",
       "Balanced Bagging Classifier  1378  10216  1753   217"
      ]
     },
     "execution_count": 12,
     "metadata": {},
     "output_type": "execute_result"
    }
   ],
   "source": [
    "TP, TN, FP, FN = {}, {}, {}, {}\n",
    "\n",
    "for key in models.keys():\n",
    "    cm=confusion_matrix(y_test, models[key].predict(X_test))    #Calculate Confusion Matrix\n",
    "    TP[key]= cm[1][1]\n",
    "    TN[key]= cm[0][0]\n",
    "    FP[key]= cm[0][1]\n",
    "    FN[key]= cm[1][0]\n",
    "\n",
    "confusion_m= pd.DataFrame(index=models.keys())       #DF with confusion matrix results\n",
    "confusion_m['TP']= TP.values()\n",
    "confusion_m['TN']= TN.values()\n",
    "confusion_m['FP']= FP.values()\n",
    "confusion_m['FN']= FN.values()\n",
    "\n",
    "print('(*) TP: True positive, TN: True negative, FP; False positive, FN: False negative')\n",
    "confusion_m"
   ]
  },
  {
   "cell_type": "markdown",
   "id": "4a500c2b",
   "metadata": {},
   "source": [
    "As we are interested in optimizing the accuracy having the less False Positives, the best models are **Random Forest** and **GradientBoostingClassifier**"
   ]
  },
  {
   "cell_type": "markdown",
   "id": "e73eb6b9",
   "metadata": {},
   "source": [
    "## Balanced dataset"
   ]
  },
  {
   "cell_type": "code",
   "execution_count": 17,
   "id": "2d0402d4",
   "metadata": {},
   "outputs": [
    {
     "data": {
      "text/html": [
       "<div>\n",
       "<style scoped>\n",
       "    .dataframe tbody tr th:only-of-type {\n",
       "        vertical-align: middle;\n",
       "    }\n",
       "\n",
       "    .dataframe tbody tr th {\n",
       "        vertical-align: top;\n",
       "    }\n",
       "\n",
       "    .dataframe thead th {\n",
       "        text-align: right;\n",
       "    }\n",
       "</style>\n",
       "<table border=\"1\" class=\"dataframe\">\n",
       "  <thead>\n",
       "    <tr style=\"text-align: right;\">\n",
       "      <th></th>\n",
       "      <th>Accuracy</th>\n",
       "      <th>Precision</th>\n",
       "      <th>Recall</th>\n",
       "      <th>F1</th>\n",
       "      <th>Roc_Auc</th>\n",
       "    </tr>\n",
       "  </thead>\n",
       "  <tbody>\n",
       "    <tr>\n",
       "      <th>Logistic Regression</th>\n",
       "      <td>0.883368</td>\n",
       "      <td>0.638871</td>\n",
       "      <td>0.503210</td>\n",
       "      <td>0.562983</td>\n",
       "      <td>0.726646</td>\n",
       "    </tr>\n",
       "    <tr>\n",
       "      <th>Decision Tree</th>\n",
       "      <td>0.841787</td>\n",
       "      <td>0.688401</td>\n",
       "      <td>0.399709</td>\n",
       "      <td>0.505758</td>\n",
       "      <td>0.676881</td>\n",
       "    </tr>\n",
       "    <tr>\n",
       "      <th>Random Forest</th>\n",
       "      <td>0.884031</td>\n",
       "      <td>0.757994</td>\n",
       "      <td>0.504591</td>\n",
       "      <td>0.605863</td>\n",
       "      <td>0.735014</td>\n",
       "    </tr>\n",
       "    <tr>\n",
       "      <th>AdaBoostClassifier</th>\n",
       "      <td>0.881672</td>\n",
       "      <td>0.652038</td>\n",
       "      <td>0.497608</td>\n",
       "      <td>0.564450</td>\n",
       "      <td>0.724619</td>\n",
       "    </tr>\n",
       "    <tr>\n",
       "      <th>GradientBoostingClassifier</th>\n",
       "      <td>0.885358</td>\n",
       "      <td>0.757367</td>\n",
       "      <td>0.508418</td>\n",
       "      <td>0.608411</td>\n",
       "      <td>0.736913</td>\n",
       "    </tr>\n",
       "    <tr>\n",
       "      <th>K-Nearest Neighbor</th>\n",
       "      <td>0.868623</td>\n",
       "      <td>0.642006</td>\n",
       "      <td>0.458166</td>\n",
       "      <td>0.534726</td>\n",
       "      <td>0.703882</td>\n",
       "    </tr>\n",
       "    <tr>\n",
       "      <th>Balanced Bagging Classifier</th>\n",
       "      <td>0.845842</td>\n",
       "      <td>0.882132</td>\n",
       "      <td>0.425076</td>\n",
       "      <td>0.573700</td>\n",
       "      <td>0.703371</td>\n",
       "    </tr>\n",
       "  </tbody>\n",
       "</table>\n",
       "</div>"
      ],
      "text/plain": [
       "                             Accuracy  Precision    Recall        F1   Roc_Auc\n",
       "Logistic Regression          0.883368   0.638871  0.503210  0.562983  0.726646\n",
       "Decision Tree                0.841787   0.688401  0.399709  0.505758  0.676881\n",
       "Random Forest                0.884031   0.757994  0.504591  0.605863  0.735014\n",
       "AdaBoostClassifier           0.881672   0.652038  0.497608  0.564450  0.724619\n",
       "GradientBoostingClassifier   0.885358   0.757367  0.508418  0.608411  0.736913\n",
       "K-Nearest Neighbor           0.868623   0.642006  0.458166  0.534726  0.703882\n",
       "Balanced Bagging Classifier  0.845842   0.882132  0.425076  0.573700  0.703371"
      ]
     },
     "execution_count": 17,
     "metadata": {},
     "output_type": "execute_result"
    }
   ],
   "source": [
    "# Building, training and testing the models\n",
    "models_b = {}                                        #Diccionario con los modelos a testear\n",
    "models_b['Logistic Regression'] = LogisticRegression(max_iter=500)\n",
    "models_b['Decision Tree'] = DecisionTreeClassifier()\n",
    "models_b['Random Forest'] = RandomForestClassifier()\n",
    "models_b['AdaBoostClassifier'] = AdaBoostClassifier(random_state=0)\n",
    "models_b['GradientBoostingClassifier'] = GradientBoostingClassifier(random_state=0)\n",
    "models_b['K-Nearest Neighbor'] = KNeighborsClassifier()\n",
    "models_b['Balanced Bagging Classifier'] = BalancedBaggingClassifier(base_estimator= RandomForestClassifier(),random_state=0)\n",
    "\n",
    "accuracy, precision, recall, f1, roc = {}, {}, {}, {}, {}\n",
    "\n",
    "for key in models_b.keys():\n",
    "    models_b[key].fit(X_train_b, y_train_b)                           # Training the models\n",
    "    predictions = models_b[key].predict(X_test)                   # Prediction \n",
    "       \n",
    "    accuracy[key] = accuracy_score(predictions, y_test)         # Calculate Metrics\n",
    "    precision[key] = precision_score(predictions, y_test)\n",
    "    recall[key] = recall_score(predictions, y_test)\n",
    "    f1[key] = f1_score(predictions, y_test)\n",
    "    roc[key] = roc_auc_score(predictions, y_test)\n",
    "    \n",
    "metrics_b = pd.DataFrame(index=models_b.keys(), columns=['Accuracy', 'Precision', 'Recall', 'F1', 'Roc_Auc'])    # DF with metrics\n",
    "metrics_b['Accuracy'] = accuracy.values()\n",
    "metrics_b['Precision'] = precision.values()\n",
    "metrics_b['Recall'] = recall.values()\n",
    "metrics_b['F1'] = f1.values()\n",
    "metrics_b['Roc_Auc'] = roc.values()\n",
    "metrics_b"
   ]
  },
  {
   "cell_type": "markdown",
   "id": "73fbc4ac",
   "metadata": {},
   "source": [
    "We calculate the confusion matrix of the models"
   ]
  },
  {
   "cell_type": "code",
   "execution_count": 14,
   "id": "9b1f2fe5",
   "metadata": {},
   "outputs": [
    {
     "name": "stdout",
     "output_type": "stream",
     "text": [
      "* TP: True positive, TN: True negative, FP; False positive, FN: False negative\n"
     ]
    },
    {
     "data": {
      "text/html": [
       "<div>\n",
       "<style scoped>\n",
       "    .dataframe tbody tr th:only-of-type {\n",
       "        vertical-align: middle;\n",
       "    }\n",
       "\n",
       "    .dataframe tbody tr th {\n",
       "        vertical-align: top;\n",
       "    }\n",
       "\n",
       "    .dataframe thead th {\n",
       "        text-align: right;\n",
       "    }\n",
       "</style>\n",
       "<table border=\"1\" class=\"dataframe\">\n",
       "  <thead>\n",
       "    <tr style=\"text-align: right;\">\n",
       "      <th></th>\n",
       "      <th>TP</th>\n",
       "      <th>TN</th>\n",
       "      <th>FP</th>\n",
       "      <th>FN</th>\n",
       "    </tr>\n",
       "  </thead>\n",
       "  <tbody>\n",
       "    <tr>\n",
       "      <th>Logistic Regression</th>\n",
       "      <td>1019</td>\n",
       "      <td>10963</td>\n",
       "      <td>1006</td>\n",
       "      <td>576</td>\n",
       "    </tr>\n",
       "    <tr>\n",
       "      <th>Decision Tree</th>\n",
       "      <td>1079</td>\n",
       "      <td>10318</td>\n",
       "      <td>1651</td>\n",
       "      <td>516</td>\n",
       "    </tr>\n",
       "    <tr>\n",
       "      <th>Random Forest</th>\n",
       "      <td>1222</td>\n",
       "      <td>10807</td>\n",
       "      <td>1162</td>\n",
       "      <td>373</td>\n",
       "    </tr>\n",
       "    <tr>\n",
       "      <th>AdaBoostClassifier</th>\n",
       "      <td>1040</td>\n",
       "      <td>10919</td>\n",
       "      <td>1050</td>\n",
       "      <td>555</td>\n",
       "    </tr>\n",
       "    <tr>\n",
       "      <th>GradientBoostingClassifier</th>\n",
       "      <td>1208</td>\n",
       "      <td>10801</td>\n",
       "      <td>1168</td>\n",
       "      <td>387</td>\n",
       "    </tr>\n",
       "    <tr>\n",
       "      <th>K-Nearest Neighbor</th>\n",
       "      <td>1024</td>\n",
       "      <td>10758</td>\n",
       "      <td>1211</td>\n",
       "      <td>571</td>\n",
       "    </tr>\n",
       "    <tr>\n",
       "      <th>Balanced Bagging Classifier</th>\n",
       "      <td>1407</td>\n",
       "      <td>10066</td>\n",
       "      <td>1903</td>\n",
       "      <td>188</td>\n",
       "    </tr>\n",
       "  </tbody>\n",
       "</table>\n",
       "</div>"
      ],
      "text/plain": [
       "                               TP     TN    FP   FN\n",
       "Logistic Regression          1019  10963  1006  576\n",
       "Decision Tree                1079  10318  1651  516\n",
       "Random Forest                1222  10807  1162  373\n",
       "AdaBoostClassifier           1040  10919  1050  555\n",
       "GradientBoostingClassifier   1208  10801  1168  387\n",
       "K-Nearest Neighbor           1024  10758  1211  571\n",
       "Balanced Bagging Classifier  1407  10066  1903  188"
      ]
     },
     "execution_count": 14,
     "metadata": {},
     "output_type": "execute_result"
    }
   ],
   "source": [
    "TP, TN, FP, FN = {}, {}, {}, {}\n",
    "\n",
    "for key in models_b.keys():\n",
    "    cm=confusion_matrix(y_test, models_b[key].predict(X_test))    #Calculate Confusion Matrix\n",
    "    TP[key]= cm[1][1]\n",
    "    TN[key]= cm[0][0]\n",
    "    FP[key]= cm[0][1]\n",
    "    FN[key]= cm[1][0]\n",
    "\n",
    "confusion_m_b= pd.DataFrame(index=models.keys())       #DF with confusion matrix results\n",
    "confusion_m_b['TP']= TP.values()\n",
    "confusion_m_b['TN']= TN.values()\n",
    "confusion_m_b['FP']= FP.values()\n",
    "confusion_m_b['FN']= FN.values()\n",
    "\n",
    "print('* TP: True positive, TN: True negative, FP; False positive, FN: False negative')\n",
    "confusion_m_b"
   ]
  },
  {
   "cell_type": "markdown",
   "id": "d7f30892",
   "metadata": {},
   "source": [
    "Comparing imbalanced and balanced datasets:\n",
    "- Imbalanced dataset has better results in all metrics comparing with balanced dataset\n",
    "- Balanced dataset increase the number of True Positive but also the number of False Positive\n",
    "- Probably, with the models tested, it has more and better influence to use more rows than to use balanced datasets\n",
    "\n",
    "Therfore, we'll use the original **imbalanced dataset** for building the end model\n"
   ]
  },
  {
   "cell_type": "markdown",
   "id": "fa0f9621",
   "metadata": {},
   "source": [
    "## Cross Validation and hyperparameters tunning\n",
    "\n",
    "We select **Random Forest Classifier** and **GradientBoostingClassifier** for ajusting hyperparameters and determinate which one is best model."
   ]
  },
  {
   "cell_type": "markdown",
   "id": "8a6d729d",
   "metadata": {},
   "source": [
    "## Cross Validation"
   ]
  },
  {
   "cell_type": "markdown",
   "id": "7e35a196",
   "metadata": {},
   "source": [
    "Using Cross Validation we'll see if our models have overfitting. We'll use the dataset complete and the score will be accuracy"
   ]
  },
  {
   "cell_type": "code",
   "execution_count": 17,
   "id": "010bc107",
   "metadata": {},
   "outputs": [
    {
     "name": "stdout",
     "output_type": "stream",
     "text": [
      "Accuracy: 0.9056     std_Accuracy: 0.0039\n"
     ]
    }
   ],
   "source": [
    "#Random Forest Classifier\n",
    "crossv = RepeatedKFold(n_splits = 10, n_repeats = 3, random_state = 0)\n",
    "scores = cross_val_score(models['Random Forest'], x, y, scoring= 'accuracy', cv = crossv)\n",
    "print('Accuracy: {0}     std_Accuracy: {1}'.format(np.mean(scores).round(4), np.std(scores).round(4)))"
   ]
  },
  {
   "cell_type": "code",
   "execution_count": 18,
   "id": "b4816705",
   "metadata": {},
   "outputs": [
    {
     "name": "stdout",
     "output_type": "stream",
     "text": [
      "Accuracy: 0.9065     std_Accuracy: 0.0041\n"
     ]
    }
   ],
   "source": [
    "#Gradient Boosting Classifier\n",
    "crossv = RepeatedKFold(n_splits = 10, n_repeats = 3, random_state = 0)\n",
    "scores = cross_val_score(models['GradientBoostingClassifier'], x, y, scoring= 'accuracy', cv = crossv)\n",
    "print('Accuracy: {0}     std_Accuracy: {1}'.format(np.mean(scores).round(4), np.std(scores).round(4)))"
   ]
  },
  {
   "cell_type": "markdown",
   "id": "c1b34b50",
   "metadata": {},
   "source": [
    "When applying cross validation on the total dataset we obtain an accuracy similar to the one obtained by Train/Test. The standard deviation of the 30 values is very low, so we can conclude that there is **no overfitting** in our models."
   ]
  },
  {
   "cell_type": "markdown",
   "id": "c46dd1bf",
   "metadata": {},
   "source": [
    "## Hyperparameters tunning\n",
    "\n",
    "We try to improve the models using GridSearch, optimizing accuracy"
   ]
  },
  {
   "cell_type": "markdown",
   "id": "395681f0",
   "metadata": {},
   "source": [
    "### 1.- Random Forest"
   ]
  },
  {
   "cell_type": "code",
   "execution_count": 25,
   "id": "4509f519",
   "metadata": {},
   "outputs": [
    {
     "data": {
      "text/plain": [
       "{'bootstrap': True,\n",
       " 'ccp_alpha': 0.0,\n",
       " 'class_weight': None,\n",
       " 'criterion': 'gini',\n",
       " 'max_depth': None,\n",
       " 'max_features': 'auto',\n",
       " 'max_leaf_nodes': None,\n",
       " 'max_samples': None,\n",
       " 'min_impurity_decrease': 0.0,\n",
       " 'min_samples_leaf': 1,\n",
       " 'min_samples_split': 2,\n",
       " 'min_weight_fraction_leaf': 0.0,\n",
       " 'n_estimators': 100,\n",
       " 'n_jobs': None,\n",
       " 'oob_score': False,\n",
       " 'random_state': None,\n",
       " 'verbose': 0,\n",
       " 'warm_start': False}"
      ]
     },
     "execution_count": 25,
     "metadata": {},
     "output_type": "execute_result"
    }
   ],
   "source": [
    "#We get the model inicial parameters\n",
    "models['Random Forest'].get_params()"
   ]
  },
  {
   "cell_type": "code",
   "execution_count": 11,
   "id": "99591e87",
   "metadata": {},
   "outputs": [
    {
     "data": {
      "text/plain": [
       "GridSearchCV(estimator=RandomForestClassifier(),\n",
       "             param_grid={'max_depth': [10, 15, 20, 25],\n",
       "                         'max_features': [10, 15, 20, 25],\n",
       "                         'n_estimators': [100, 150, 200, 250, 300]},\n",
       "             scoring='accuracy')"
      ]
     },
     "execution_count": 11,
     "metadata": {},
     "output_type": "execute_result"
    }
   ],
   "source": [
    "#Parameters to optimize with GridSearch\n",
    "parameters ={'max_features': [10,15,20,25], 'n_estimators': [100, 150, 200, 250, 300], 'max_depth': [10, 15,20, 25]}\n",
    "\n",
    "#setting up\n",
    "rf_gs = GridSearchCV(estimator = RandomForestClassifier(), param_grid = parameters, scoring = 'accuracy')\n",
    "\n",
    "#Training\n",
    "rf_gs.fit(X_train, y_train)"
   ]
  },
  {
   "cell_type": "code",
   "execution_count": 14,
   "id": "687ac767",
   "metadata": {},
   "outputs": [
    {
     "name": "stdout",
     "output_type": "stream",
     "text": [
      "Best Parameters:  {'max_depth': 20, 'max_features': 15, 'n_estimators': 200}  \n",
      "\n",
      "Best accuracy:  0.9083959166873219  \n",
      "\n"
     ]
    }
   ],
   "source": [
    "print ('Best Parameters: ', rf_gs.best_params_, ' \\n')\n",
    "print ('Best accuracy: ', rf_gs.best_score_, ' \\n')\n"
   ]
  },
  {
   "cell_type": "markdown",
   "id": "74f438fd",
   "metadata": {},
   "source": [
    "We train the the Random Forest model with the best params and calculate metrics and confusion matrix"
   ]
  },
  {
   "cell_type": "code",
   "execution_count": 15,
   "id": "d97edd50",
   "metadata": {},
   "outputs": [],
   "source": [
    "rf= RandomForestClassifier(max_depth=20, max_features=15, n_estimators =200)\n",
    "rf.fit(X_train, y_train)\n",
    "\n",
    "#Calculate metrics\n",
    "accuracy = accuracy_score(rf.predict(X_test), y_test)\n",
    "precision = precision_score(rf.predict(X_test), y_test)\n",
    "recall = recall_score(rf.predict(X_test), y_test)\n",
    "f1 = f1_score(rf.predict(X_test), y_test)\n",
    "roc = roc_auc_score(rf.predict(X_test), y_test)\n",
    "metrics.loc['Random Forest Optimized'] = [accuracy, precision, recall, f1, roc]\n",
    "\n",
    "#Calculate confusion matrix\n",
    "cm=confusion_matrix(y_test, rf.predict(X_test)) \n",
    "confusion_m.loc['Random Forest Optimized'] = [cm[1][1], cm[0][0], cm[0][1], cm[1][0]]"
   ]
  },
  {
   "cell_type": "markdown",
   "id": "54c25ff3",
   "metadata": {},
   "source": [
    "### 2.- Gradient Boosting Classifier"
   ]
  },
  {
   "cell_type": "code",
   "execution_count": 13,
   "id": "f5563b4a",
   "metadata": {},
   "outputs": [
    {
     "data": {
      "text/plain": [
       "{'ccp_alpha': 0.0,\n",
       " 'criterion': 'friedman_mse',\n",
       " 'init': None,\n",
       " 'learning_rate': 0.1,\n",
       " 'loss': 'deviance',\n",
       " 'max_depth': 3,\n",
       " 'max_features': None,\n",
       " 'max_leaf_nodes': None,\n",
       " 'min_impurity_decrease': 0.0,\n",
       " 'min_samples_leaf': 1,\n",
       " 'min_samples_split': 2,\n",
       " 'min_weight_fraction_leaf': 0.0,\n",
       " 'n_estimators': 100,\n",
       " 'n_iter_no_change': None,\n",
       " 'random_state': 0,\n",
       " 'subsample': 1.0,\n",
       " 'tol': 0.0001,\n",
       " 'validation_fraction': 0.1,\n",
       " 'verbose': 0,\n",
       " 'warm_start': False}"
      ]
     },
     "execution_count": 13,
     "metadata": {},
     "output_type": "execute_result"
    }
   ],
   "source": [
    "#We get the model inicial parameters\n",
    "models['GradientBoostingClassifier'].get_params()"
   ]
  },
  {
   "cell_type": "code",
   "execution_count": 14,
   "id": "7f977bad",
   "metadata": {},
   "outputs": [
    {
     "data": {
      "text/plain": [
       "GridSearchCV(estimator=GradientBoostingClassifier(random_state=0),\n",
       "             param_grid={'criterion': ['friedman_mse', 'squared_error'],\n",
       "                         'learning_rate': [0.1, 0.5, 1.0],\n",
       "                         'max_depth': [3, 5, 10],\n",
       "                         'n_estimators': [75, 100, 150, 200]},\n",
       "             scoring='accuracy')"
      ]
     },
     "execution_count": 14,
     "metadata": {},
     "output_type": "execute_result"
    }
   ],
   "source": [
    "#Parameters to optimize with GridSearch\n",
    "parameters ={'criterion': ['friedman_mse', 'squared_error'], 'n_estimators': [75, 100, 150, 200], \n",
    "             'learning_rate': [0.1, 0.5, 1.0], 'max_depth': [3, 5, 10]}\n",
    "\n",
    "#Definimos el GridSearch\n",
    "gbc_gs = GridSearchCV(estimator = GradientBoostingClassifier(random_state=0), param_grid = parameters, scoring = 'accuracy')\n",
    "\n",
    "#Entrenamos el GridSearch\n",
    "gbc_gs.fit(X_train, y_train)"
   ]
  },
  {
   "cell_type": "code",
   "execution_count": 15,
   "id": "279b8a10",
   "metadata": {},
   "outputs": [
    {
     "name": "stdout",
     "output_type": "stream",
     "text": [
      "Best Parameters:  {'criterion': 'friedman_mse', 'learning_rate': 0.1, 'max_depth': 5, 'n_estimators': 150}  \n",
      "\n",
      "Best accuracy:  0.9087750586145622  \n",
      "\n"
     ]
    }
   ],
   "source": [
    "print ('Best Parameters: ', gbc_gs.best_params_, ' \\n')\n",
    "print ('Best accuracy: ', gbc_gs.best_score_, ' \\n')"
   ]
  },
  {
   "cell_type": "markdown",
   "id": "7ecaca5d",
   "metadata": {},
   "source": [
    "We train the the GradientBoostingClassifier model with the best params and calculate metrics and confusion matrix"
   ]
  },
  {
   "cell_type": "code",
   "execution_count": 16,
   "id": "8b280b2a",
   "metadata": {},
   "outputs": [],
   "source": [
    "gbc= GradientBoostingClassifier(random_state=0, criterion ='friedman_mse', max_depth=5, learning_rate=0.1, n_estimators =150)\n",
    "gbc.fit(X_train, y_train)\n",
    "\n",
    "#Calculate metrics\n",
    "accuracy = accuracy_score(gbc.predict(X_test), y_test)\n",
    "precision = precision_score(gbc.predict(X_test), y_test)\n",
    "recall = recall_score(gbc.predict(X_test), y_test)\n",
    "f1 = f1_score(gbc.predict(X_test), y_test)\n",
    "roc = roc_auc_score(gbc.predict(X_test), y_test)\n",
    "metrics.loc['GradientBoostingClassifier Optimized'] = [accuracy, precision, recall, f1, roc]\n",
    "\n",
    "#Calculate confusion matrix\n",
    "cm=confusion_matrix(y_test, gbc.predict(X_test)) \n",
    "confusion_m.loc['GradientBoostingClassifier Optimized'] = [cm[1][1], cm[0][0], cm[0][1], cm[1][0]]"
   ]
  },
  {
   "cell_type": "markdown",
   "id": "1184bb75",
   "metadata": {},
   "source": [
    "## Choosing final model"
   ]
  },
  {
   "cell_type": "markdown",
   "id": "b7594795",
   "metadata": {},
   "source": [
    "We are comparing RandomForest and GradienBostClassifier before and after hyperparameters tunning"
   ]
  },
  {
   "cell_type": "code",
   "execution_count": 17,
   "id": "c4f198df",
   "metadata": {},
   "outputs": [
    {
     "data": {
      "text/html": [
       "<div>\n",
       "<style scoped>\n",
       "    .dataframe tbody tr th:only-of-type {\n",
       "        vertical-align: middle;\n",
       "    }\n",
       "\n",
       "    .dataframe tbody tr th {\n",
       "        vertical-align: top;\n",
       "    }\n",
       "\n",
       "    .dataframe thead th {\n",
       "        text-align: right;\n",
       "    }\n",
       "</style>\n",
       "<table border=\"1\" class=\"dataframe\">\n",
       "  <thead>\n",
       "    <tr style=\"text-align: right;\">\n",
       "      <th></th>\n",
       "      <th>Accuracy</th>\n",
       "      <th>Precision</th>\n",
       "      <th>Recall</th>\n",
       "      <th>F1</th>\n",
       "      <th>Roc_Auc</th>\n",
       "    </tr>\n",
       "  </thead>\n",
       "  <tbody>\n",
       "    <tr>\n",
       "      <th>Random Forest</th>\n",
       "      <td>0.902757</td>\n",
       "      <td>0.389342</td>\n",
       "      <td>0.642857</td>\n",
       "      <td>0.484967</td>\n",
       "      <td>0.782772</td>\n",
       "    </tr>\n",
       "    <tr>\n",
       "      <th>GradientBoostingClassifier</th>\n",
       "      <td>0.902536</td>\n",
       "      <td>0.420063</td>\n",
       "      <td>0.627929</td>\n",
       "      <td>0.503381</td>\n",
       "      <td>0.776956</td>\n",
       "    </tr>\n",
       "    <tr>\n",
       "      <th>Random Forest Optimized</th>\n",
       "      <td>0.904674</td>\n",
       "      <td>0.475235</td>\n",
       "      <td>0.624382</td>\n",
       "      <td>0.539694</td>\n",
       "      <td>0.778304</td>\n",
       "    </tr>\n",
       "    <tr>\n",
       "      <th>GradientBoostingClassifier Optimized</th>\n",
       "      <td>0.906444</td>\n",
       "      <td>0.482759</td>\n",
       "      <td>0.634267</td>\n",
       "      <td>0.548238</td>\n",
       "      <td>0.783733</td>\n",
       "    </tr>\n",
       "  </tbody>\n",
       "</table>\n",
       "</div>"
      ],
      "text/plain": [
       "                                      Accuracy  Precision    Recall        F1  \\\n",
       "Random Forest                         0.902757   0.389342  0.642857  0.484967   \n",
       "GradientBoostingClassifier            0.902536   0.420063  0.627929  0.503381   \n",
       "Random Forest Optimized               0.904674   0.475235  0.624382  0.539694   \n",
       "GradientBoostingClassifier Optimized  0.906444   0.482759  0.634267  0.548238   \n",
       "\n",
       "                                       Roc_Auc  \n",
       "Random Forest                         0.782772  \n",
       "GradientBoostingClassifier            0.776956  \n",
       "Random Forest Optimized               0.778304  \n",
       "GradientBoostingClassifier Optimized  0.783733  "
      ]
     },
     "execution_count": 17,
     "metadata": {},
     "output_type": "execute_result"
    }
   ],
   "source": [
    "#metrics\n",
    "metrics.iloc[[2,4,7,8]]"
   ]
  },
  {
   "cell_type": "code",
   "execution_count": 18,
   "id": "e592a332",
   "metadata": {},
   "outputs": [
    {
     "data": {
      "text/html": [
       "<div>\n",
       "<style scoped>\n",
       "    .dataframe tbody tr th:only-of-type {\n",
       "        vertical-align: middle;\n",
       "    }\n",
       "\n",
       "    .dataframe tbody tr th {\n",
       "        vertical-align: top;\n",
       "    }\n",
       "\n",
       "    .dataframe thead th {\n",
       "        text-align: right;\n",
       "    }\n",
       "</style>\n",
       "<table border=\"1\" class=\"dataframe\">\n",
       "  <thead>\n",
       "    <tr style=\"text-align: right;\">\n",
       "      <th></th>\n",
       "      <th>TP</th>\n",
       "      <th>TN</th>\n",
       "      <th>FP</th>\n",
       "      <th>FN</th>\n",
       "    </tr>\n",
       "  </thead>\n",
       "  <tbody>\n",
       "    <tr>\n",
       "      <th>Random Forest</th>\n",
       "      <td>621</td>\n",
       "      <td>11624</td>\n",
       "      <td>345</td>\n",
       "      <td>974</td>\n",
       "    </tr>\n",
       "    <tr>\n",
       "      <th>GradientBoostingClassifier</th>\n",
       "      <td>670</td>\n",
       "      <td>11572</td>\n",
       "      <td>397</td>\n",
       "      <td>925</td>\n",
       "    </tr>\n",
       "    <tr>\n",
       "      <th>Random Forest Optimized</th>\n",
       "      <td>758</td>\n",
       "      <td>11513</td>\n",
       "      <td>456</td>\n",
       "      <td>837</td>\n",
       "    </tr>\n",
       "    <tr>\n",
       "      <th>GradientBoostingClassifier Optimized</th>\n",
       "      <td>770</td>\n",
       "      <td>11525</td>\n",
       "      <td>444</td>\n",
       "      <td>825</td>\n",
       "    </tr>\n",
       "  </tbody>\n",
       "</table>\n",
       "</div>"
      ],
      "text/plain": [
       "                                       TP     TN   FP   FN\n",
       "Random Forest                         621  11624  345  974\n",
       "GradientBoostingClassifier            670  11572  397  925\n",
       "Random Forest Optimized               758  11513  456  837\n",
       "GradientBoostingClassifier Optimized  770  11525  444  825"
      ]
     },
     "execution_count": 18,
     "metadata": {},
     "output_type": "execute_result"
    }
   ],
   "source": [
    "#confusion matrix\n",
    "confusion_m.iloc[[2,4,7,8]]"
   ]
  },
  {
   "cell_type": "markdown",
   "id": "6260b5c9",
   "metadata": {},
   "source": [
    "#### Model comparison\n",
    "- Both models slightly improve accuracy (0.4%) when tunning hyperparameters\n",
    "- GradientBostingClassifier Optimized obtain the best results in all metrics\n",
    "- GradientBostingClassifier Optimized obtain more True Positive and less False Positive than Random Forest Optimized"
   ]
  },
  {
   "cell_type": "markdown",
   "id": "8043b4be",
   "metadata": {},
   "source": [
    "We apply Cross Validation to the final model"
   ]
  },
  {
   "cell_type": "code",
   "execution_count": 12,
   "id": "a78c6646",
   "metadata": {},
   "outputs": [
    {
     "name": "stdout",
     "output_type": "stream",
     "text": [
      "Accuracy: 0.9091     std_Accuracy: 0.0045\n"
     ]
    }
   ],
   "source": [
    "#Cross Validation final model\n",
    "model= GradientBoostingClassifier(criterion= 'friedman_mse', learning_rate= 0.1, max_depth= 5, n_estimators= 150, random_state=0)\n",
    "crossv = RepeatedKFold(n_splits = 10, n_repeats = 3, random_state = 0)\n",
    "scores = cross_val_score(model, x, y, scoring= 'accuracy', cv = crossv)\n",
    "print('Accuracy: {0}     std_Accuracy: {1}'.format(np.mean(scores).round(4), np.std(scores).round(4)))"
   ]
  },
  {
   "cell_type": "markdown",
   "id": "36c79865",
   "metadata": {},
   "source": [
    "We obtain an accuracy similar to the one obtained by Train/Test. The standard deviation of the 30 values is very low, so we can conclude that there is **no overfitting** in our final model."
   ]
  },
  {
   "cell_type": "markdown",
   "id": "1bde3edb",
   "metadata": {},
   "source": [
    "**Finally, we choose the model:**\n",
    "- **GradientBoostingClassifier**(criterion= 'friedman_mse', learning_rate= 0.1, max_depth= 5, n_estimators= 150, random_state=0)\n",
    "- Accuracy: **0.9064**\n",
    "- False Positives: **1.4%**"
   ]
  }
 ],
 "metadata": {
  "kernelspec": {
   "display_name": "Python 3 (ipykernel)",
   "language": "python",
   "name": "python3"
  },
  "language_info": {
   "codemirror_mode": {
    "name": "ipython",
    "version": 3
   },
   "file_extension": ".py",
   "mimetype": "text/x-python",
   "name": "python",
   "nbconvert_exporter": "python",
   "pygments_lexer": "ipython3",
   "version": "3.9.7"
  }
 },
 "nbformat": 4,
 "nbformat_minor": 5
}
